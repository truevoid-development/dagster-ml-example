{
 "cells": [
  {
   "cell_type": "code",
   "execution_count": 1,
   "id": "a32f78a7-534e-4ed5-8617-992402a8ddd1",
   "metadata": {},
   "outputs": [],
   "source": [
    "import pyiceberg\n",
    "import pyiceberg.catalog"
   ]
  },
  {
   "cell_type": "code",
   "execution_count": 2,
   "id": "c7993463-5df6-481d-9e6e-75aa6a70bc3b",
   "metadata": {},
   "outputs": [],
   "source": [
    "catalog = pyiceberg.catalog.load_catalog(                                                                                                                                                                                                                                    \n",
    "            uri=\"http://nessie:19120/iceberg\",                                                                                                                                                                                                                                            \n",
    "            properties={                                                                                                                                                                                                                                                          \n",
    "                \"s3\": {                                                                                                                                                                                                                                                           \n",
    "                    \"endpoint\": \"http://minio:9000\",                                                                                                                                                                                                         \n",
    "                    \"access-key-id\": \"admin\",                                                                                                                                                                                                         \n",
    "                    \"secret-access-key\": \"miniopass\",                                                                                                                                                                                                 \n",
    "                }                                                                                                                                                                                                                                                                 \n",
    "            },                                                                                                                                                                                                                                                                    \n",
    "        )  "
   ]
  },
  {
   "cell_type": "code",
   "execution_count": null,
   "id": "0d300888-8a6f-47b7-a89d-24208542e97c",
   "metadata": {},
   "outputs": [],
   "source": [
    "catalog.create_namespace(\"public\")"
   ]
  },
  {
   "cell_type": "code",
   "execution_count": 32,
   "id": "52b5b391-ee06-46c1-8261-a5d74918f926",
   "metadata": {},
   "outputs": [],
   "source": [
    "from pyiceberg.schema import Schema\n",
    "from pyiceberg.types import NestedField, StringType, DoubleType, IntegerType\n",
    "from pyiceberg.partitioning import PartitionField, PartitionSpec\n",
    "from pyiceberg.transforms import IdentityTransform\n",
    "from pyiceberg.io.pyarrow import schema_to_pyarrow"
   ]
  },
  {
   "cell_type": "code",
   "execution_count": 36,
   "id": "2402a735-1f93-4aec-ab4c-41dbd9ed8067",
   "metadata": {},
   "outputs": [],
   "source": [
    "schema = Schema(\n",
    "    NestedField(1, \"city\", StringType(), required=False),\n",
    "    NestedField(2, \"lat\", DoubleType(), required=False),\n",
    "    NestedField(3, \"long\", DoubleType(), required=False),\n",
    "    NestedField(4, \"index\", IntegerType(), required=True),\n",
    ")\n",
    "\n",
    "partition_spec = PartitionSpec(   \n",
    "    PartitionField(source_id=4, field_id=1000, transform=IdentityTransform(), name=\"index_partition\"),\n",
    ")\n",
    "\n",
    "tbl = catalog.create_table(\"public.cities\", schema=schema, partition_spec=partition_spec)"
   ]
  },
  {
   "cell_type": "code",
   "execution_count": 26,
   "id": "2e660403-5c95-4457-9762-0cbc449850a8",
   "metadata": {},
   "outputs": [],
   "source": [
    "catalog.drop_table(\"public.cities\")"
   ]
  },
  {
   "cell_type": "code",
   "execution_count": 37,
   "id": "22666fb1-38bf-4274-be9a-2b852077b092",
   "metadata": {},
   "outputs": [],
   "source": [
    "import pyarrow as pa\n",
    "\n",
    "df = pa.Table.from_pylist(\n",
    "    [\n",
    "        {\"city\": \"Amsterdam\", \"lat\": 52.371807, \"long\": 4.896029, \"index\": 1},\n",
    "        {\"city\": \"San Francisco\", \"lat\": 37.773972, \"long\": -122.431297, \"index\": 1},\n",
    "        {\"city\": \"Drachten\", \"lat\": 53.11254, \"long\": 6.0989, \"index\": 2},\n",
    "        {\"city\": \"Paris\", \"lat\": 48.864716, \"long\": 2.349014, \"index\": 2},\n",
    "    ],\n",
    "    schema=schema_to_pyarrow(tbl.schema())\n",
    ")"
   ]
  },
  {
   "cell_type": "code",
   "execution_count": 44,
   "id": "1ac85523-4c4a-47cd-a138-02c9e2b0aac9",
   "metadata": {},
   "outputs": [],
   "source": [
    "df2 = pa.Table.from_pylist(\n",
    "    [\n",
    "        {\"city\": \"Amsterdam\", \"lat\": 52.371807, \"long\": 4.896029, \"index\": 1},\n",
    "        {\"city\": \"Null Island\", \"lat\": 0.0, \"long\": 0.0, \"index\": 3},\n",
    "    ],\n",
    "    schema=schema_to_pyarrow(tbl.schema())\n",
    ")"
   ]
  },
  {
   "cell_type": "code",
   "execution_count": 42,
   "id": "3df9af53-4982-4dc3-ad87-cdc9b4f1815e",
   "metadata": {},
   "outputs": [],
   "source": [
    "tbl.overwrite(df)"
   ]
  },
  {
   "cell_type": "code",
   "execution_count": 45,
   "id": "82b77e4e-0939-470e-82da-a53b8c830a37",
   "metadata": {},
   "outputs": [],
   "source": [
    "tbl.overwrite(df2)"
   ]
  },
  {
   "cell_type": "code",
   "execution_count": 46,
   "id": "b5f1c834-958a-4458-a0c0-7e4f9a49c169",
   "metadata": {},
   "outputs": [
    {
     "data": {
      "text/plain": [
       "pyarrow.Table\n",
       "city: large_string\n",
       "lat: double\n",
       "long: double\n",
       "index: int32 not null\n",
       "----\n",
       "city: [[\"Amsterdam\"],[\"Null Island\"]]\n",
       "lat: [[52.371807],[0]]\n",
       "long: [[4.896029],[0]]\n",
       "index: [[1],[3]]"
      ]
     },
     "execution_count": 46,
     "metadata": {},
     "output_type": "execute_result"
    }
   ],
   "source": [
    "tbl.scan().to_arrow()"
   ]
  },
  {
   "cell_type": "code",
   "execution_count": null,
   "id": "34415ca1-ff07-49d7-8d45-0d9b1598588d",
   "metadata": {},
   "outputs": [],
   "source": []
  }
 ],
 "metadata": {
  "kernelspec": {
   "display_name": "Python 3 (ipykernel)",
   "language": "python",
   "name": "python3"
  },
  "language_info": {
   "codemirror_mode": {
    "name": "ipython",
    "version": 3
   },
   "file_extension": ".py",
   "mimetype": "text/x-python",
   "name": "python",
   "nbconvert_exporter": "python",
   "pygments_lexer": "ipython3",
   "version": "3.12.4"
  }
 },
 "nbformat": 4,
 "nbformat_minor": 5
}
