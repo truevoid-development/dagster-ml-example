{
 "cells": [
  {
   "cell_type": "code",
   "execution_count": 3,
   "id": "f4fe1214-c9da-4b6f-a6ae-0cada2dbcefe",
   "metadata": {},
   "outputs": [],
   "source": [
    "import pyiceberg"
   ]
  },
  {
   "cell_type": "code",
   "execution_count": null,
   "id": "c260fb17-c48e-433e-832c-90d4b8df51e4",
   "metadata": {},
   "outputs": [],
   "source": [
    "!ray job submit --address http://ray-cluster-kuberay-head-svc:8265 -- python -c \"import ray; ray.init(); print(ray.cluster_resources())\""
   ]
  },
  {
   "cell_type": "code",
   "execution_count": null,
   "id": "56ccf448-2814-479e-b7ea-2bf475d17e6b",
   "metadata": {},
   "outputs": [],
   "source": []
  }
 ],
 "metadata": {
  "kernelspec": {
   "display_name": "Python 3 (ipykernel)",
   "language": "python",
   "name": "python3"
  },
  "language_info": {
   "codemirror_mode": {
    "name": "ipython",
    "version": 3
   },
   "file_extension": ".py",
   "mimetype": "text/x-python",
   "name": "python",
   "nbconvert_exporter": "python",
   "pygments_lexer": "ipython3",
   "version": "3.11.9"
  }
 },
 "nbformat": 4,
 "nbformat_minor": 5
}
