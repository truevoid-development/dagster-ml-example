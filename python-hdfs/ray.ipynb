{
 "cells": [
  {
   "cell_type": "code",
   "execution_count": null,
   "id": "c260fb17-c48e-433e-832c-90d4b8df51e4",
   "metadata": {},
   "outputs": [],
   "source": [
    "!ray job submit --working-dir $PWD --address http://ray-cluster-kuberay-head-svc:8265 -- python main.py"
   ]
  },
  {
   "cell_type": "code",
   "execution_count": 1,
   "id": "9a921e28-ad5e-490f-8e43-91124380f901",
   "metadata": {},
   "outputs": [],
   "source": [
    "import ray"
   ]
  },
  {
   "cell_type": "code",
   "execution_count": null,
   "id": "1bf5de90-e926-40f6-8f6a-08b364f8b3d7",
   "metadata": {},
   "outputs": [],
   "source": [
    "ray.init(\"ray://ray-cluster-kuberay-head-svc:10001\", runtime_env={\"working_dir\": \".\"})"
   ]
  },
  {
   "cell_type": "code",
   "execution_count": 2,
   "id": "25a8076f-4754-4783-93a1-084d4b570b33",
   "metadata": {},
   "outputs": [],
   "source": [
    "from ray.job_submission import JobSubmissionClient\n",
    "\n",
    "client = JobSubmissionClient(\"http://ray-cluster-kuberay-head-svc:8265\")"
   ]
  },
  {
   "cell_type": "code",
   "execution_count": 4,
   "id": "c39f0065-b576-4fb2-8b88-bebcf8d42904",
   "metadata": {},
   "outputs": [
    {
     "name": "stderr",
     "output_type": "stream",
     "text": [
      "2024-07-27 22:22:11,715\tINFO dashboard_sdk.py:338 -- Uploading package gcs://_ray_pkg_11a8cec980bb6ed0.zip.\n",
      "2024-07-27 22:22:11,716\tINFO packaging.py:530 -- Creating a file package for local directory '.'.\n"
     ]
    }
   ],
   "source": [
    "job_id = client.submit_job(\n",
    "    entrypoint=\"python example.py\",\n",
    "    runtime_env={\"working_dir\": \".\"}\n",
    ")"
   ]
  },
  {
   "cell_type": "code",
   "execution_count": 5,
   "id": "e896ad02-885a-4e1f-bd53-abcdbdb202bb",
   "metadata": {},
   "outputs": [
    {
     "name": "stdout",
     "output_type": "stream",
     "text": [
      "raysubmit_3sATmy67V96fCcLs\n"
     ]
    }
   ],
   "source": [
    "print(job_id)"
   ]
  },
  {
   "cell_type": "code",
   "execution_count": null,
   "id": "b681213f-532e-4be1-8743-4129a4b01d89",
   "metadata": {},
   "outputs": [],
   "source": [
    "@ray.remote\n",
    "def square(x):\n",
    "    return x * x"
   ]
  },
  {
   "cell_type": "code",
   "execution_count": null,
   "id": "9bfd6aa2-8bda-45a0-af3b-c3db92a977e2",
   "metadata": {},
   "outputs": [],
   "source": [
    "futures = [square.remote(v) for v in range(10, 100)]"
   ]
  },
  {
   "cell_type": "code",
   "execution_count": null,
   "id": "906e811d-44b3-4c34-be82-0fc7af76ad61",
   "metadata": {},
   "outputs": [],
   "source": [
    "futures"
   ]
  },
  {
   "cell_type": "code",
   "execution_count": null,
   "id": "3e760b57-c13e-4177-b71a-f43f60972ef0",
   "metadata": {},
   "outputs": [],
   "source": [
    "results = [await f for f in futures]"
   ]
  },
  {
   "cell_type": "code",
   "execution_count": null,
   "id": "146d0006-5a83-45d7-96c8-57f4f4d4b815",
   "metadata": {},
   "outputs": [],
   "source": [
    "results"
   ]
  },
  {
   "cell_type": "code",
   "execution_count": null,
   "id": "095f8bb7-f0d5-4510-ba50-3936b6aa762e",
   "metadata": {},
   "outputs": [],
   "source": []
  }
 ],
 "metadata": {
  "kernelspec": {
   "display_name": "Python 3 (ipykernel)",
   "language": "python",
   "name": "python3"
  },
  "language_info": {
   "codemirror_mode": {
    "name": "ipython",
    "version": 3
   },
   "file_extension": ".py",
   "mimetype": "text/x-python",
   "name": "python",
   "nbconvert_exporter": "python",
   "pygments_lexer": "ipython3",
   "version": "3.11.9"
  }
 },
 "nbformat": 4,
 "nbformat_minor": 5
}
