{
 "cells": [
  {
   "cell_type": "code",
   "execution_count": 1,
   "id": "9c8b60b0-ccc4-4658-ba3a-7675e3243b11",
   "metadata": {},
   "outputs": [
    {
     "name": "stdout",
     "output_type": "stream",
     "text": [
      "True\n"
     ]
    }
   ],
   "source": [
    "def is_valid_sudoku(board):\n",
    "    # Convert the 1D list to a 2D 9x9 grid\n",
    "    grid = [board[i:i+9] for i in range(0, 81, 9)]\n",
    "\n",
    "    # Check rows\n",
    "    for row in grid:\n",
    "        if not is_valid_group(row):\n",
    "            return False\n",
    "\n",
    "    # Check columns\n",
    "    for col in range(9):\n",
    "        if not is_valid_group([grid[row][col] for row in range(9)]):\n",
    "            return False\n",
    "\n",
    "    # Check 3x3 sub-boxes\n",
    "    for box_row in range(0, 9, 3):\n",
    "        for box_col in range(0, 9, 3):\n",
    "            box = [grid[row][col] for row in range(box_row, box_row + 3) \n",
    "                                  for col in range(box_col, box_col + 3)]\n",
    "            if not is_valid_group(box):\n",
    "                return False\n",
    "\n",
    "    return True\n",
    "\n",
    "def is_valid_group(group):\n",
    "    return len(set(group)) == 9 and all(1 <= num <= 9 for num in group)\n",
    "\n",
    "# Test the function\n",
    "sudoku_solution = (8, 5, 9, 6, 1, 2, 4, 3, 7, \n",
    "                   7, 2, 3, 8, 5, 4, 1, 6, 9, \n",
    "                   1, 6, 4, 3, 7, 9, 5, 2, 8, \n",
    "                   9, 8, 6, 1, 4, 7, 3, 5, 2, \n",
    "                   3, 7, 5, 2, 6, 8, 9, 1, 4, \n",
    "                   2, 4, 1, 5, 9, 3, 7, 8, 6, \n",
    "                   4, 3, 2, 9, 8, 1, 6, 7, 5, \n",
    "                   6, 1, 7, 4, 2, 5, 8, 9, 3, \n",
    "                   5, 9, 8, 7, 3, 6, 2, 4, 1)\n",
    "\n",
    "print(is_valid_sudoku(sudoku_solution))"
   ]
  },
  {
   "cell_type": "code",
   "execution_count": 2,
   "id": "2f8a78dd-3dd8-45db-8c15-fee7ba90a3ed",
   "metadata": {},
   "outputs": [
    {
     "name": "stdout",
     "output_type": "stream",
     "text": [
      "False\n"
     ]
    }
   ],
   "source": [
    "sol2 = (6, 4, 1, 9, 2, 5, 8, 7, 3, 7, 9, 5, 8, 1, 3, 4, 6, 2, 8, 3, 2, 7, 6, 4, 1, 4, 9, 1, 9, 4, 5, 7, 8, 2, 3, 6, 2, 7, 3, 6, 9, 1, 5, 8, 4, 5, 6, 8, 2, 3, 4, 7, 9, 1, 4, 1, 7, 3, 5, 6, 9, 2, 8, 9, 2, 6, 4, 8, 1, 7, 5, 3, 3, 8, 9, 1, 4, 7, 6, 2, 5)\n",
    "\n",
    "print(is_valid_sudoku(sol2))"
   ]
  },
  {
   "cell_type": "code",
   "execution_count": 3,
   "id": "d87a0501-afd0-438e-8c14-7391ccd70254",
   "metadata": {},
   "outputs": [],
   "source": [
    "sol2b = (\n",
    "    6, 4, 1, 9, 2, 5, 8, 7, 3,\n",
    "    7, 9, 5, 8, 1, 3, 4, 6, 2,\n",
    "    8, 3, 2, 7, 6, 4, 1, 4, 9,\n",
    "    1, 9, 4, 5, 7, 8, 2, 3, 6,\n",
    "    2, 7, 3, 6, 9, 1, 5, 8, 4,\n",
    "    5, 6, 8, 2, 3, 4, 7, 9, 1,\n",
    "    4, 1, 7, 3, 5, 6, 9, 2, 8,\n",
    "    9, 2, 6, 4, 8, 1, 7, 5, 3,\n",
    "    3, 8, 9, 1, 4, 7, 6, 2, 5\n",
    ")\n"
   ]
  },
  {
   "cell_type": "code",
   "execution_count": 5,
   "id": "cb7e8424-695d-467a-a362-a3fe91683e8b",
   "metadata": {},
   "outputs": [
    {
     "name": "stdout",
     "output_type": "stream",
     "text": [
      "False\n"
     ]
    }
   ],
   "source": [
    "sol2c = (\n",
    "    6, 4, 1, 9, 2, 5, 8, 7, 3,\n",
    "    7, 9, 5, 8, 1, 3, 4, 6, 2,\n",
    "    8, 3, 2, 7, 6, 4, 1, 5, 9,\n",
    "    1, 5, 4, 6, 7, 8, 2, 3, 7,\n",
    "    2, 7, 3, 1, 9, 6, 5, 8, 4,\n",
    "    9, 6, 8, 2, 3, 4, 7, 1, 5,\n",
    "    4, 1, 7, 3, 5, 2, 9, 6, 8,\n",
    "    5, 2, 6, 4, 8, 1, 3, 9, 7,\n",
    "    3, 8, 9, 5, 4, 7, 6, 2, 1\n",
    ")\n",
    "print(is_valid_sudoku(sol2c))"
   ]
  },
  {
   "cell_type": "code",
   "execution_count": 6,
   "id": "f23875be-7da9-4a1b-8dbd-d24836c68b57",
   "metadata": {},
   "outputs": [
    {
     "name": "stdout",
     "output_type": "stream",
     "text": [
      "True\n"
     ]
    }
   ],
   "source": [
    "sol1 = (1, 7, 9, 5, 6, 2, 8, 3, 4,\n",
    "        4, 6, 2, 8, 7, 3, 1, 5, 9,\n",
    "        5, 3, 8, 9, 1, 4, 6, 7, 2,\n",
    "        6, 2, 5, 4, 9, 1, 7, 8, 3,\n",
    "        3, 8, 4, 6, 2, 7, 5, 9, 1,\n",
    "        9, 1, 7, 3, 5, 8, 2 ,4, 6,\n",
    "        8, 5, 6, 1, 4, 9, 3, 2, 7,\n",
    "        7, 9, 1, 2 ,3, 5, 4, 6, 8,\n",
    "        2, 4, 3, 7, 8, 6, 9 ,1, 5)\n",
    "\n",
    "\n",
    "print(is_valid_sudoku(sol1))"
   ]
  },
  {
   "cell_type": "code",
   "execution_count": null,
   "id": "7ca2392c-8966-4e28-bf23-65b0a7d88e2c",
   "metadata": {},
   "outputs": [],
   "source": []
  }
 ],
 "metadata": {
  "kernelspec": {
   "display_name": "Python 3 (ipykernel)",
   "language": "python",
   "name": "python3"
  },
  "language_info": {
   "codemirror_mode": {
    "name": "ipython",
    "version": 3
   },
   "file_extension": ".py",
   "mimetype": "text/x-python",
   "name": "python",
   "nbconvert_exporter": "python",
   "pygments_lexer": "ipython3",
   "version": "3.12.4"
  }
 },
 "nbformat": 4,
 "nbformat_minor": 5
}
