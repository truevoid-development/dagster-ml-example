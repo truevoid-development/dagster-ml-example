{
 "cells": [
  {
   "cell_type": "code",
   "execution_count": 1,
   "id": "323c8652-9ee4-4c63-8bf4-b6fb75dc3415",
   "metadata": {},
   "outputs": [],
   "source": [
    "import mlflow"
   ]
  },
  {
   "cell_type": "code",
   "execution_count": 2,
   "id": "c661f846-3c2d-4bc8-9d4c-432ead71eb1c",
   "metadata": {},
   "outputs": [],
   "source": [
    "client = mlflow.MlflowClient()"
   ]
  },
  {
   "cell_type": "code",
   "execution_count": 3,
   "id": "c7f039dc-e55e-41fd-b02d-c410529ec9fd",
   "metadata": {},
   "outputs": [],
   "source": [
    "run = client.get_run(\"cb17643c7aeb4dac9d08fff94e6f6e70\")"
   ]
  },
  {
   "cell_type": "code",
   "execution_count": 4,
   "id": "0c39ea4f-63d6-48e1-854b-a69adba98f9c",
   "metadata": {},
   "outputs": [
    {
     "data": {
      "text/plain": [
       "'mlflow-artifacts:/0/cb17643c7aeb4dac9d08fff94e6f6e70/artifacts'"
      ]
     },
     "execution_count": 4,
     "metadata": {},
     "output_type": "execute_result"
    }
   ],
   "source": [
    "run.info.artifact_uri"
   ]
  },
  {
   "cell_type": "code",
   "execution_count": 5,
   "id": "61d35aac-58e8-4ef4-bc1e-2bf425d9df6c",
   "metadata": {},
   "outputs": [
    {
     "data": {
      "text/plain": [
       "[]"
      ]
     },
     "execution_count": 5,
     "metadata": {},
     "output_type": "execute_result"
    }
   ],
   "source": [
    "client.list_artifacts(run_id=run.info.run_id)"
   ]
  },
  {
   "cell_type": "code",
   "execution_count": null,
   "id": "f2b16197-dbae-4782-aaf5-5772da3fcd72",
   "metadata": {},
   "outputs": [],
   "source": []
  }
 ],
 "metadata": {
  "kernelspec": {
   "display_name": "Python 3 (ipykernel)",
   "language": "python",
   "name": "python3"
  },
  "language_info": {
   "codemirror_mode": {
    "name": "ipython",
    "version": 3
   },
   "file_extension": ".py",
   "mimetype": "text/x-python",
   "name": "python",
   "nbconvert_exporter": "python",
   "pygments_lexer": "ipython3",
   "version": "3.12.4"
  }
 },
 "nbformat": 4,
 "nbformat_minor": 5
}
